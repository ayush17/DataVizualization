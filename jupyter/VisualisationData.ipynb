{
 "cells": [
  {
   "cell_type": "markdown",
   "metadata": {},
   "source": [
    "# III. Data for visualization"
   ]
  },
  {
   "cell_type": "markdown",
   "metadata": {},
   "source": [
    "## Load dataset"
   ]
  },
  {
   "cell_type": "code",
   "execution_count": 1,
   "metadata": {
    "collapsed": false
   },
   "outputs": [],
   "source": [
    "from __future__ import division\n",
    "from collections import Counter\n",
    "import math\n",
    "import pandas as pd\n",
    "import numpy as np\n",
    "\n",
    "df = pd.read_csv('data/globalterrorism_cleaned.csv', encoding='utf-8')"
   ]
  },
  {
   "cell_type": "code",
   "execution_count": 2,
   "metadata": {
    "collapsed": false
   },
   "outputs": [
    {
     "data": {
      "text/html": [
       "<div>\n",
       "<table border=\"1\" class=\"dataframe\">\n",
       "  <thead>\n",
       "    <tr style=\"text-align: right;\">\n",
       "      <th></th>\n",
       "      <th>year</th>\n",
       "      <th>extended</th>\n",
       "      <th>country</th>\n",
       "      <th>region</th>\n",
       "      <th>state</th>\n",
       "      <th>city</th>\n",
       "      <th>lat</th>\n",
       "      <th>lon</th>\n",
       "      <th>multiple</th>\n",
       "      <th>success</th>\n",
       "      <th>...</th>\n",
       "      <th>nter</th>\n",
       "      <th>claimed</th>\n",
       "      <th>weapontype</th>\n",
       "      <th>nkilled</th>\n",
       "      <th>nkilledter</th>\n",
       "      <th>nwounded</th>\n",
       "      <th>nwoundedter</th>\n",
       "      <th>property</th>\n",
       "      <th>propertyextent</th>\n",
       "      <th>countrycode</th>\n",
       "    </tr>\n",
       "  </thead>\n",
       "  <tbody>\n",
       "    <tr>\n",
       "      <th>19241</th>\n",
       "      <td>1983</td>\n",
       "      <td>0</td>\n",
       "      <td>Nicaragua</td>\n",
       "      <td>Central America &amp; Caribbean</td>\n",
       "      <td>Unknown</td>\n",
       "      <td>San Juan Del Rio Coco</td>\n",
       "      <td>13.544303</td>\n",
       "      <td>-86.165168</td>\n",
       "      <td>0</td>\n",
       "      <td>1</td>\n",
       "      <td>...</td>\n",
       "      <td>0</td>\n",
       "      <td>0</td>\n",
       "      <td>Firearms</td>\n",
       "      <td>0</td>\n",
       "      <td>0</td>\n",
       "      <td>0</td>\n",
       "      <td>0</td>\n",
       "      <td>1</td>\n",
       "      <td>Unknown</td>\n",
       "      <td>NIC</td>\n",
       "    </tr>\n",
       "  </tbody>\n",
       "</table>\n",
       "<p>1 rows × 24 columns</p>\n",
       "</div>"
      ],
      "text/plain": [
       "       year  extended    country                       region    state  \\\n",
       "19241  1983         0  Nicaragua  Central America & Caribbean  Unknown   \n",
       "\n",
       "                        city        lat        lon  multiple  success  \\\n",
       "19241  San Juan Del Rio Coco  13.544303 -86.165168         0        1   \n",
       "\n",
       "          ...       nter claimed weapontype nkilled  nkilledter  nwounded  \\\n",
       "19241     ...          0       0   Firearms       0           0         0   \n",
       "\n",
       "      nwoundedter  property  propertyextent  countrycode  \n",
       "19241           0         1         Unknown          NIC  \n",
       "\n",
       "[1 rows x 24 columns]"
      ]
     },
     "execution_count": 2,
     "metadata": {},
     "output_type": "execute_result"
    }
   ],
   "source": [
    "df.sample()"
   ]
  },
  {
   "cell_type": "code",
   "execution_count": 3,
   "metadata": {
    "collapsed": false
   },
   "outputs": [
    {
     "data": {
      "text/plain": [
       "Index([u'year', u'extended', u'country', u'region', u'state', u'city', u'lat',\n",
       "       u'lon', u'multiple', u'success', u'suicide', u'attacktype',\n",
       "       u'targettype', u'gname', u'nter', u'claimed', u'weapontype', u'nkilled',\n",
       "       u'nkilledter', u'nwounded', u'nwoundedter', u'property',\n",
       "       u'propertyextent', u'countrycode'],\n",
       "      dtype='object')"
      ]
     },
     "execution_count": 3,
     "metadata": {},
     "output_type": "execute_result"
    }
   ],
   "source": [
    "df.columns"
   ]
  },
  {
   "cell_type": "markdown",
   "metadata": {},
   "source": [
    "## Encode string values"
   ]
  },
  {
   "cell_type": "code",
   "execution_count": 4,
   "metadata": {
    "collapsed": false
   },
   "outputs": [],
   "source": [
    "import json\n",
    "\n",
    "str_cols = ['region', 'country', 'weapontype', 'attacktype', 'targettype', 'gname', 'countrycode']\n",
    "\n",
    "unique_str = sorted([\n",
    "    unique.title()\n",
    "    for col in str_cols \n",
    "    for unique in df[col].unique().tolist()\n",
    "])\n",
    "unique_str.extend(['World', 'Region', 'Country', 'Terrorist Group', 'Weapon Type', 'Attack Type', 'Target Type'])\n",
    "unique_str.extend(['All Regions', 'All Types'])\n",
    "str_map = {\n",
    "    unique: i \n",
    "    for i, unique in enumerate(unique_str)\n",
    "}\n",
    "str_map_rev = {\n",
    "    i: unique \n",
    "    for i, unique in enumerate(unique_str)\n",
    "}\n",
    "with open('/Users/olegpolakow/Google Drive/My Documents/Education/Master/DTU_SocialData_SS17/socialdata2017/project/dicts/strings.json', 'w') as fp:\n",
    "    json.dump(str_map_rev, fp)\n",
    "    \n",
    "def encode_df(df_):\n",
    "    str_cols = df_.select_dtypes(exclude=[float, int]).columns.tolist()\n",
    "    for col in str_cols:\n",
    "        df_[col] = df_[col].map(lambda x: str_map[x.title()])"
   ]
  },
  {
   "cell_type": "markdown",
   "metadata": {},
   "source": [
    "## Histogram: Temporal distribution"
   ]
  },
  {
   "cell_type": "code",
   "execution_count": 5,
   "metadata": {
    "collapsed": false
   },
   "outputs": [],
   "source": [
    "categories = {\n",
    "    'region': 'Region',\n",
    "    'country': 'Country',\n",
    "    'gname': 'Terrorist Group',\n",
    "    'weapontype': 'Weapon Type',\n",
    "    'attacktype': 'Attack Type',\n",
    "    'targettype': 'Target Type'\n",
    "}\n",
    "columns = ['category', 'subcategory', 'year', 'nkilled', 'nwounded', 'nkilledter', 'nwoundedter']\n",
    "metrics = ['nkilled', 'nwounded', 'nkilledter', 'nwoundedter']\n",
    "\n",
    "df_ = pd.DataFrame(columns=columns)\n",
    "\n",
    "for category, label in categories.iteritems():\n",
    "    df1 = df.groupby([df[category], df.year]).size().reset_index(name='nattacks')\n",
    "    df2 = df[metrics].groupby([df[category], df.year]).sum().reset_index()\n",
    "    df3 = df1.join(df2.set_index([category, 'year']), on=[category, 'year'])\n",
    "    df3.rename(index=str, columns={category: 'subcategory'}, inplace=True)\n",
    "    df3['category'] = label\n",
    "    df_ = df_.append(df3)\n",
    "\n",
    "df1 = df.groupby(df.year).size().reset_index(name='nattacks')\n",
    "df2 = df[metrics].groupby(df.year).sum().reset_index()\n",
    "df3 = df1.join(df2.set_index(['year']), on=['year'])\n",
    "df3['category'] = 'World'\n",
    "df3['subcategory'] = 'All Regions'\n",
    "df_ = df_.append(df3)"
   ]
  },
  {
   "cell_type": "code",
   "execution_count": 6,
   "metadata": {
    "collapsed": false
   },
   "outputs": [],
   "source": [
    "df_ = df_[df_.subcategory != 'Unknown']\n",
    "df_[metrics+['nattacks', 'year']] = df_[metrics+['nattacks', 'year']].astype(int)\n",
    "\n",
    "encode_df(df_)\n",
    "\n",
    "df_.to_csv('/Users/olegpolakow/Google Drive/My Documents/Education/Master/DTU_SocialData_SS17/socialdata2017/project/data/histogram.csv', encoding='utf-8', index=False)"
   ]
  },
  {
   "cell_type": "markdown",
   "metadata": {},
   "source": [
    "## Scatterplot: Terrorism types"
   ]
  },
  {
   "cell_type": "code",
   "execution_count": 7,
   "metadata": {
    "collapsed": true
   },
   "outputs": [],
   "source": [
    "categories = {\n",
    "    'region': 'Region',\n",
    "    'country': 'Country'\n",
    "}\n",
    "types = {\n",
    "    'weapontype': 'Weapon Type',\n",
    "    'attacktype': 'Attack Type',\n",
    "    'targettype': 'Target Type'\n",
    "}\n",
    "columns = ['category', 'subcategory', 'type', 'subtype', 'nattacks', 'nkilled', 'nwounded', 'nkilledter', 'nwoundedter']\n",
    "metrics = ['nkilled', 'nwounded', 'nkilledter', 'nwoundedter']\n",
    "\n",
    "df_ = pd.DataFrame(columns=columns)\n",
    "\n",
    "for type_, tlabel in types.iteritems():\n",
    "    for category, clabel in categories.iteritems():\n",
    "        \n",
    "        df1 = df.groupby([df[category], df[type_]]).size().reset_index(name='nattacks')\n",
    "        df2 = df[metrics].groupby([df[category], df[type_]])[metrics].sum().reset_index()\n",
    "        df1 = df1.join(df2.set_index([category, type_]), on=[category, type_])\n",
    "        df1.rename(columns={category: 'subcategory', type_: 'subtype'}, inplace=True)\n",
    "        df1['category'] = clabel\n",
    "        df1['type'] = tlabel\n",
    "        df_ = df_.append(df1)\n",
    "    \n",
    "    df1 = df.groupby(df[type_]).size().reset_index(name='nattacks')\n",
    "    df2 = df[metrics].groupby(df[type_])[metrics].sum().reset_index()\n",
    "    df1 = df1.join(df2.set_index([type_]), on=[type_])\n",
    "    df1.rename(columns={type_: 'subtype'}, inplace=True)\n",
    "    df1['category'] = 'World'\n",
    "    df1['subcategory'] = 'All Regions'\n",
    "    df1['type'] = tlabel\n",
    "    df_ = df_.append(df1)"
   ]
  },
  {
   "cell_type": "code",
   "execution_count": 8,
   "metadata": {
    "collapsed": true
   },
   "outputs": [],
   "source": [
    "df_ = df_[df_['subcategory'] != 'Unknown']\n",
    "df_ = df_[df_['subtype'] != 'Unknown']\n",
    "\n",
    "encode_df(df_)\n",
    "\n",
    "df_.to_csv('/Users/olegpolakow/Google Drive/My Documents/Education/Master/DTU_SocialData_SS17/socialdata2017/project/data/scatterplot.csv', encoding='utf-8', index=False)"
   ]
  },
  {
   "cell_type": "markdown",
   "metadata": {},
   "source": [
    "## Choropleth: Geographical distribution"
   ]
  },
  {
   "cell_type": "code",
   "execution_count": 9,
   "metadata": {
    "collapsed": true
   },
   "outputs": [],
   "source": [
    "categories = {\n",
    "    'gname': 'Terrorist Group',\n",
    "    'weapontype': 'Weapon Type',\n",
    "    'attacktype': 'Attack Type',\n",
    "    'targettype': 'Target Type'\n",
    "}\n",
    "columns = ['category', 'subcategory', 'year', 'countrycode', 'nkilled', 'nwounded', 'nkilledter', 'nwoundedter']\n",
    "metrics = ['nkilled', 'nwounded', 'nkilledter', 'nwoundedter']\n",
    "\n",
    "df_ = pd.DataFrame(columns=columns)\n",
    "\n",
    "for category, label in categories.iteritems():\n",
    "    df1 = df.groupby([df[category], df['countrycode'], df['year']]).size().reset_index(name='nattacks')\n",
    "    df2 = df[metrics].groupby([df[category], df['countrycode'], df['year']]).sum().reset_index()\n",
    "    df3 = df1.join(df2.set_index([category, 'countrycode', 'year']), on=[category, 'countrycode', 'year'])\n",
    "    df3.rename(index=str, columns={category: 'subcategory'}, inplace=True)\n",
    "    df3['category'] = label\n",
    "    df_ = df_.append(df3)\n",
    "\n",
    "df1 = df.groupby([df['countrycode'], df['year']]).size().reset_index(name='nattacks')\n",
    "df2 = df[metrics].groupby([df['countrycode'], df['year']]).sum().reset_index()\n",
    "df3 = df1.join(df2.set_index(['countrycode', 'year']), on=['countrycode', 'year'])\n",
    "df3['category'] = 'All Types'\n",
    "df3['subcategory'] = 'All Types'\n",
    "df_ = df_.append(df3)"
   ]
  },
  {
   "cell_type": "code",
   "execution_count": 10,
   "metadata": {
    "collapsed": false
   },
   "outputs": [],
   "source": [
    "df_ = df_[df_.subcategory != 'Unknown']\n",
    "df_[metrics+['nattacks', 'year']] = df_[metrics+['nattacks', 'year']].astype(int)\n",
    "\n",
    "encode_df(df_)\n",
    "\n",
    "df_.to_csv('/Users/olegpolakow/Google Drive/My Documents/Education/Master/DTU_SocialData_SS17/socialdata2017/project/data/choropleth.csv', encoding='utf-8', index=False)"
   ]
  },
  {
   "cell_type": "markdown",
   "metadata": {},
   "source": [
    "## K-Means: Core areas of terrorism"
   ]
  },
  {
   "cell_type": "code",
   "execution_count": 11,
   "metadata": {
    "collapsed": false
   },
   "outputs": [],
   "source": [
    "df_loc = df[['lon', 'lat', 'weapontype', 'attacktype', 'targettype']].copy()\n",
    "df_loc.lon = df_loc.lon.apply(lambda x: round(x, 2))\n",
    "df_loc.lat = df_loc.lat.apply(lambda x: round(x, 2))\n",
    "\n",
    "encode_df(df_loc)\n",
    "    \n",
    "df_loc.to_csv('/Users/olegpolakow/Google Drive/My Documents/Education/Master/DTU_SocialData_SS17/socialdata2017/project/data/points.csv', encoding='utf-8', index=False)"
   ]
  },
  {
   "cell_type": "code",
   "execution_count": 12,
   "metadata": {
    "collapsed": false
   },
   "outputs": [
    {
     "name": "stdout",
     "output_type": "stream",
     "text": [
      "Processing column \"weapontype\"\n",
      "Processing column \"attacktype\"\n",
      "Processing column \"targettype\"\n"
     ]
    }
   ],
   "source": [
    "# Cluster every category and type\n",
    "from sklearn.cluster import KMeans\n",
    "\n",
    "str_cols = ['weapontype', 'attacktype', 'targettype']\n",
    "\n",
    "df_ = pd.DataFrame(columns=['lon', 'lat', 'k', 'type'])\n",
    "for col in str_cols:\n",
    "    print 'Processing column \"%s\"' % col\n",
    "    subtypes = df_loc[col].unique().tolist()\n",
    "    for subtype in subtypes:\n",
    "        ks = range(2, 7)\n",
    "        kmeans = {k: KMeans(n_clusters=k, max_iter=50).fit(df_loc[df_loc[col] == subtype][['lon', 'lat']]) for k in ks}\n",
    "        centroid_data = [\n",
    "            (kmean.cluster_centers_[i][0], kmean.cluster_centers_[i][1], k) \n",
    "            for k, kmean in kmeans.iteritems() \n",
    "            for i in range(len(kmean.cluster_centers_))\n",
    "        ]\n",
    "        pd_temp = pd.DataFrame(centroid_data, columns=['lon', 'lat', 'k'])\n",
    "        pd_temp['type'] = subtype\n",
    "        df_ = df_.append(pd_temp)"
   ]
  },
  {
   "cell_type": "code",
   "execution_count": 13,
   "metadata": {
    "collapsed": true
   },
   "outputs": [],
   "source": [
    "# Cluster all attacks\n",
    "kmeans = {k: KMeans(n_clusters=k, max_iter=50).fit(df_loc[['lon', 'lat']]) for k in ks}\n",
    "centroid_data = [\n",
    "    (kmean.cluster_centers_[i][0], kmean.cluster_centers_[i][1], k) \n",
    "    for k, kmean in kmeans.iteritems() \n",
    "    for i in range(len(kmean.cluster_centers_))\n",
    "]\n",
    "pd_temp = pd.DataFrame(centroid_data, columns=['lon', 'lat', 'k'])\n",
    "# Encoding for \"All Types\"\n",
    "pd_temp['type'] = str_map['All Types']\n",
    "df_ = df_.append(pd_temp)"
   ]
  },
  {
   "cell_type": "code",
   "execution_count": 14,
   "metadata": {
    "collapsed": true
   },
   "outputs": [],
   "source": [
    "df_[['k', 'type']] = df_[['k', 'type']].astype(int)\n",
    "df_.to_csv('/Users/olegpolakow/Google Drive/My Documents/Education/Master/DTU_SocialData_SS17/socialdata2017/project/data/centroids.csv', encoding='utf-8', index=False)"
   ]
  },
  {
   "cell_type": "code",
   "execution_count": null,
   "metadata": {
    "collapsed": true
   },
   "outputs": [],
   "source": []
  }
 ],
 "metadata": {
  "anaconda-cloud": {},
  "hide_input": false,
  "kernelspec": {
   "display_name": "Python [conda root]",
   "language": "python",
   "name": "conda-root-py"
  },
  "language_info": {
   "codemirror_mode": {
    "name": "ipython",
    "version": 2
   },
   "file_extension": ".py",
   "mimetype": "text/x-python",
   "name": "python",
   "nbconvert_exporter": "python",
   "pygments_lexer": "ipython2",
   "version": "2.7.13"
  }
 },
 "nbformat": 4,
 "nbformat_minor": 2
}
